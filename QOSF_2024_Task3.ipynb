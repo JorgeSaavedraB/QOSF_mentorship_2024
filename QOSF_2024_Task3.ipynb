{
  "cells": [
    {
      "cell_type": "markdown",
      "metadata": {
        "id": "qMMhkPzsncBE"
      },
      "source": [
        "# Task 3 Optimization"
      ]
    },
    {
      "cell_type": "markdown",
      "metadata": {
        "id": "ewUx6JsCnwHR"
      },
      "source": [
        "In the Binn Packing Problem (BPP) given a collection of items, the goal is to efficiently pack the items into the minimum number of bins, where each item has an associated weight, and the bins have a maximum weight."
      ]
    },
    {
      "cell_type": "markdown",
      "metadata": {
        "id": "fb3A3sncoMf7"
      },
      "source": [
        "#### 1. From Integer Linear Programming (ILP) to Quadratic Unconstrained Binary Optimization (QUBO)."
      ]
    },
    {
      "cell_type": "markdown",
      "metadata": {
        "id": "Jna7t2LLq7rJ"
      },
      "source": [
        "\n",
        "\n",
        "*   Define the ILP formulation of the BPP. You can use Docplex or similar frameworks to do it.\n",
        "\n"
      ]
    },
    {
      "cell_type": "markdown",
      "metadata": {
        "id": "ije1WoXcr1LZ"
      },
      "source": [
        "Defining the problem:\n",
        "\n",
        "Given $n$ number of items with their respective weights ($w_j$, considering $j = 0, ..., n - 1$), we are interested in the best arrangement of the items to minimize the number bins, given $m$ available bins with a certain maximum weight $P$. That is to say that the linear expression of our cost function can be represented as follows:\n",
        "\n",
        "$$\n",
        "\\underset{x}{\\text{min}} f(x) = \\underset{x}{\\text{min}} \\sum _{i = 0} ^{m - 1} x_i.\n",
        "$$\n",
        "\n",
        "Where $x_i \\in \\{ 0, 1 \\}$ is the binary variable that represents the $i$-th bin.\n",
        "\n",
        "The first of our linear constraints makes sure that the item $j$ does not appear two times in our solution, and it can be written as:\n",
        "\n",
        "$$\n",
        "\\sum_{i=0} ^{m - 1} k_{ij} = 1.\n",
        "$$\n",
        "\n",
        "Where $k_{i, j} \\in \\{0, 1 \\}$ is the binary variable that tells us if the $j$-th item is in the $i$-th bin.\n",
        "\n",
        "The second linear constraint makes sure that the item's weights in the $i$-th bin won't surpass the maximum weight P, and it is defined as follows:\n",
        "\n",
        "$$\n",
        "\\sum _{j=0} ^{n - 1} w_{j} k_{ij} \\leq P x_i.\n",
        "$$"
      ]
    },
    {
      "cell_type": "code",
      "execution_count": 225,
      "metadata": {
        "colab": {
          "base_uri": "https://localhost:8080/"
        },
        "id": "MGyo-WilE3vY",
        "outputId": "58528346-0c5b-400f-eb95-49aca222d1cc"
      },
      "outputs": [
        {
          "output_type": "stream",
          "name": "stdout",
          "text": [
            "Requirement already satisfied: docplex in /usr/local/lib/python3.10/dist-packages (2.28.240)\n",
            "Requirement already satisfied: six in /usr/local/lib/python3.10/dist-packages (from docplex) (1.16.0)\n",
            "Requirement already satisfied: qiskit_optimization in /usr/local/lib/python3.10/dist-packages (0.6.1)\n",
            "Requirement already satisfied: qiskit>=0.44 in /usr/local/lib/python3.10/dist-packages (from qiskit_optimization) (1.2.4)\n",
            "Requirement already satisfied: qiskit-algorithms>=0.2.0 in /usr/local/lib/python3.10/dist-packages (from qiskit_optimization) (0.3.1)\n",
            "Requirement already satisfied: scipy>=1.9.0 in /usr/local/lib/python3.10/dist-packages (from qiskit_optimization) (1.13.1)\n",
            "Requirement already satisfied: numpy>=1.17 in /usr/local/lib/python3.10/dist-packages (from qiskit_optimization) (1.26.4)\n",
            "Requirement already satisfied: docplex!=2.24.231,>=2.21.207 in /usr/local/lib/python3.10/dist-packages (from qiskit_optimization) (2.28.240)\n",
            "Requirement already satisfied: setuptools>=40.1.0 in /usr/local/lib/python3.10/dist-packages (from qiskit_optimization) (75.1.0)\n",
            "Requirement already satisfied: networkx>=2.6.3 in /usr/local/lib/python3.10/dist-packages (from qiskit_optimization) (3.4.2)\n",
            "Requirement already satisfied: six in /usr/local/lib/python3.10/dist-packages (from docplex!=2.24.231,>=2.21.207->qiskit_optimization) (1.16.0)\n",
            "Requirement already satisfied: rustworkx>=0.15.0 in /usr/local/lib/python3.10/dist-packages (from qiskit>=0.44->qiskit_optimization) (0.15.1)\n",
            "Requirement already satisfied: sympy>=1.3 in /usr/local/lib/python3.10/dist-packages (from qiskit>=0.44->qiskit_optimization) (1.13.1)\n",
            "Requirement already satisfied: dill>=0.3 in /usr/local/lib/python3.10/dist-packages (from qiskit>=0.44->qiskit_optimization) (0.3.9)\n",
            "Requirement already satisfied: python-dateutil>=2.8.0 in /usr/local/lib/python3.10/dist-packages (from qiskit>=0.44->qiskit_optimization) (2.8.2)\n",
            "Requirement already satisfied: stevedore>=3.0.0 in /usr/local/lib/python3.10/dist-packages (from qiskit>=0.44->qiskit_optimization) (5.3.0)\n",
            "Requirement already satisfied: typing-extensions in /usr/local/lib/python3.10/dist-packages (from qiskit>=0.44->qiskit_optimization) (4.12.2)\n",
            "Requirement already satisfied: symengine<0.14,>=0.11 in /usr/local/lib/python3.10/dist-packages (from qiskit>=0.44->qiskit_optimization) (0.13.0)\n",
            "Requirement already satisfied: pbr>=2.0.0 in /usr/local/lib/python3.10/dist-packages (from stevedore>=3.0.0->qiskit>=0.44->qiskit_optimization) (6.1.0)\n",
            "Requirement already satisfied: mpmath<1.4,>=1.1.0 in /usr/local/lib/python3.10/dist-packages (from sympy>=1.3->qiskit>=0.44->qiskit_optimization) (1.3.0)\n",
            "Requirement already satisfied: cplex in /usr/local/lib/python3.10/dist-packages (22.1.1.2)\n",
            "ERROR: unknown command \"intall\" - maybe you meant \"install\"\n",
            "Requirement already satisfied: qiskit-aer in /usr/local/lib/python3.10/dist-packages (0.15.1)\n",
            "Requirement already satisfied: qiskit>=1.1.0 in /usr/local/lib/python3.10/dist-packages (from qiskit-aer) (1.2.4)\n",
            "Requirement already satisfied: numpy>=1.16.3 in /usr/local/lib/python3.10/dist-packages (from qiskit-aer) (1.26.4)\n",
            "Requirement already satisfied: scipy>=1.0 in /usr/local/lib/python3.10/dist-packages (from qiskit-aer) (1.13.1)\n",
            "Requirement already satisfied: psutil>=5 in /usr/local/lib/python3.10/dist-packages (from qiskit-aer) (5.9.5)\n",
            "Requirement already satisfied: rustworkx>=0.15.0 in /usr/local/lib/python3.10/dist-packages (from qiskit>=1.1.0->qiskit-aer) (0.15.1)\n",
            "Requirement already satisfied: sympy>=1.3 in /usr/local/lib/python3.10/dist-packages (from qiskit>=1.1.0->qiskit-aer) (1.13.1)\n",
            "Requirement already satisfied: dill>=0.3 in /usr/local/lib/python3.10/dist-packages (from qiskit>=1.1.0->qiskit-aer) (0.3.9)\n",
            "Requirement already satisfied: python-dateutil>=2.8.0 in /usr/local/lib/python3.10/dist-packages (from qiskit>=1.1.0->qiskit-aer) (2.8.2)\n",
            "Requirement already satisfied: stevedore>=3.0.0 in /usr/local/lib/python3.10/dist-packages (from qiskit>=1.1.0->qiskit-aer) (5.3.0)\n",
            "Requirement already satisfied: typing-extensions in /usr/local/lib/python3.10/dist-packages (from qiskit>=1.1.0->qiskit-aer) (4.12.2)\n",
            "Requirement already satisfied: symengine<0.14,>=0.11 in /usr/local/lib/python3.10/dist-packages (from qiskit>=1.1.0->qiskit-aer) (0.13.0)\n",
            "Requirement already satisfied: six>=1.5 in /usr/local/lib/python3.10/dist-packages (from python-dateutil>=2.8.0->qiskit>=1.1.0->qiskit-aer) (1.16.0)\n",
            "Requirement already satisfied: pbr>=2.0.0 in /usr/local/lib/python3.10/dist-packages (from stevedore>=3.0.0->qiskit>=1.1.0->qiskit-aer) (6.1.0)\n",
            "Requirement already satisfied: mpmath<1.4,>=1.1.0 in /usr/local/lib/python3.10/dist-packages (from sympy>=1.3->qiskit>=1.1.0->qiskit-aer) (1.3.0)\n",
            "Requirement already satisfied: qiskit_algorithms in /usr/local/lib/python3.10/dist-packages (0.3.1)\n",
            "Requirement already satisfied: qiskit>=0.44 in /usr/local/lib/python3.10/dist-packages (from qiskit_algorithms) (1.2.4)\n",
            "Requirement already satisfied: scipy>=1.4 in /usr/local/lib/python3.10/dist-packages (from qiskit_algorithms) (1.13.1)\n",
            "Requirement already satisfied: numpy>=1.17 in /usr/local/lib/python3.10/dist-packages (from qiskit_algorithms) (1.26.4)\n",
            "Requirement already satisfied: rustworkx>=0.15.0 in /usr/local/lib/python3.10/dist-packages (from qiskit>=0.44->qiskit_algorithms) (0.15.1)\n",
            "Requirement already satisfied: sympy>=1.3 in /usr/local/lib/python3.10/dist-packages (from qiskit>=0.44->qiskit_algorithms) (1.13.1)\n",
            "Requirement already satisfied: dill>=0.3 in /usr/local/lib/python3.10/dist-packages (from qiskit>=0.44->qiskit_algorithms) (0.3.9)\n",
            "Requirement already satisfied: python-dateutil>=2.8.0 in /usr/local/lib/python3.10/dist-packages (from qiskit>=0.44->qiskit_algorithms) (2.8.2)\n",
            "Requirement already satisfied: stevedore>=3.0.0 in /usr/local/lib/python3.10/dist-packages (from qiskit>=0.44->qiskit_algorithms) (5.3.0)\n",
            "Requirement already satisfied: typing-extensions in /usr/local/lib/python3.10/dist-packages (from qiskit>=0.44->qiskit_algorithms) (4.12.2)\n",
            "Requirement already satisfied: symengine<0.14,>=0.11 in /usr/local/lib/python3.10/dist-packages (from qiskit>=0.44->qiskit_algorithms) (0.13.0)\n",
            "Requirement already satisfied: six>=1.5 in /usr/local/lib/python3.10/dist-packages (from python-dateutil>=2.8.0->qiskit>=0.44->qiskit_algorithms) (1.16.0)\n",
            "Requirement already satisfied: pbr>=2.0.0 in /usr/local/lib/python3.10/dist-packages (from stevedore>=3.0.0->qiskit>=0.44->qiskit_algorithms) (6.1.0)\n",
            "Requirement already satisfied: mpmath<1.4,>=1.1.0 in /usr/local/lib/python3.10/dist-packages (from sympy>=1.3->qiskit>=0.44->qiskit_algorithms) (1.3.0)\n",
            "ERROR: unknown command \"intall\" - maybe you meant \"install\"\n",
            "Requirement already satisfied: dwave-system in /usr/local/lib/python3.10/dist-packages (1.27.0)\n",
            "Requirement already satisfied: dimod<0.14.0,>=0.12.7 in /usr/local/lib/python3.10/dist-packages (from dwave-system) (0.12.18)\n",
            "Requirement already satisfied: dwave-optimization<0.6,>=0.1.0 in /usr/local/lib/python3.10/dist-packages (from dwave-system) (0.4.0)\n",
            "Requirement already satisfied: dwave-cloud-client<0.14.0,>=0.12.0 in /usr/local/lib/python3.10/dist-packages (from dwave-system) (0.13.1)\n",
            "Requirement already satisfied: dwave-networkx>=0.8.10 in /usr/local/lib/python3.10/dist-packages (from dwave-system) (0.8.15)\n",
            "Requirement already satisfied: dwave-preprocessing>=0.5.0 in /usr/local/lib/python3.10/dist-packages (from dwave-system) (0.6.7)\n",
            "Requirement already satisfied: homebase<2.0.0,>=1.0.0 in /usr/local/lib/python3.10/dist-packages (from dwave-system) (1.0.1)\n",
            "Requirement already satisfied: minorminer<0.3.0,>=0.2.8 in /usr/local/lib/python3.10/dist-packages (from dwave-system) (0.2.16)\n",
            "Requirement already satisfied: numpy>=1.21.6 in /usr/local/lib/python3.10/dist-packages (from dwave-system) (1.26.4)\n",
            "Requirement already satisfied: dwave-samplers>=1.0.0 in /usr/local/lib/python3.10/dist-packages (from dwave-system) (1.4.0)\n",
            "Requirement already satisfied: scipy>=1.7.3 in /usr/local/lib/python3.10/dist-packages (from dwave-system) (1.13.1)\n",
            "Requirement already satisfied: requests<3,>=2.25 in /usr/local/lib/python3.10/dist-packages (from requests[socks]<3,>=2.25->dwave-cloud-client<0.14.0,>=0.12.0->dwave-system) (2.32.3)\n",
            "Requirement already satisfied: urllib3<3,>=1.26 in /usr/local/lib/python3.10/dist-packages (from dwave-cloud-client<0.14.0,>=0.12.0->dwave-system) (2.2.3)\n",
            "Requirement already satisfied: pydantic<3,>=2 in /usr/local/lib/python3.10/dist-packages (from dwave-cloud-client<0.14.0,>=0.12.0->dwave-system) (2.9.2)\n",
            "Requirement already satisfied: click<9,>=7.0 in /usr/local/lib/python3.10/dist-packages (from dwave-cloud-client<0.14.0,>=0.12.0->dwave-system) (8.1.7)\n",
            "Requirement already satisfied: python-dateutil<3,>=2.7 in /usr/local/lib/python3.10/dist-packages (from dwave-cloud-client<0.14.0,>=0.12.0->dwave-system) (2.8.2)\n",
            "Requirement already satisfied: plucky<0.5,>=0.4.3 in /usr/local/lib/python3.10/dist-packages (from dwave-cloud-client<0.14.0,>=0.12.0->dwave-system) (0.4.3)\n",
            "Requirement already satisfied: diskcache<6,>=5.2.1 in /usr/local/lib/python3.10/dist-packages (from dwave-cloud-client<0.14.0,>=0.12.0->dwave-system) (5.6.3)\n",
            "Requirement already satisfied: packaging>=19 in /usr/local/lib/python3.10/dist-packages (from dwave-cloud-client<0.14.0,>=0.12.0->dwave-system) (24.1)\n",
            "Requirement already satisfied: werkzeug<4,>=2.2 in /usr/local/lib/python3.10/dist-packages (from dwave-cloud-client<0.14.0,>=0.12.0->dwave-system) (3.0.6)\n",
            "Requirement already satisfied: typing-extensions<5,>=4.5.0 in /usr/local/lib/python3.10/dist-packages (from dwave-cloud-client<0.14.0,>=0.12.0->dwave-system) (4.12.2)\n",
            "Requirement already satisfied: authlib<2,>=1.2 in /usr/local/lib/python3.10/dist-packages (from dwave-cloud-client<0.14.0,>=0.12.0->dwave-system) (1.3.2)\n",
            "Requirement already satisfied: importlib-metadata>=5.0.0 in /usr/local/lib/python3.10/dist-packages (from dwave-cloud-client<0.14.0,>=0.12.0->dwave-system) (8.5.0)\n",
            "Requirement already satisfied: orjson>=3.10 in /usr/local/lib/python3.10/dist-packages (from dwave-cloud-client<0.14.0,>=0.12.0->dwave-system) (3.10.10)\n",
            "Requirement already satisfied: networkx>=2.4 in /usr/local/lib/python3.10/dist-packages (from dwave-networkx>=0.8.10->dwave-system) (3.4.2)\n",
            "Requirement already satisfied: fasteners>=0.15 in /usr/local/lib/python3.10/dist-packages (from minorminer<0.3.0,>=0.2.8->dwave-system) (0.19)\n",
            "Requirement already satisfied: cryptography in /usr/local/lib/python3.10/dist-packages (from authlib<2,>=1.2->dwave-cloud-client<0.14.0,>=0.12.0->dwave-system) (43.0.3)\n",
            "Requirement already satisfied: zipp>=3.20 in /usr/local/lib/python3.10/dist-packages (from importlib-metadata>=5.0.0->dwave-cloud-client<0.14.0,>=0.12.0->dwave-system) (3.20.2)\n",
            "Requirement already satisfied: annotated-types>=0.6.0 in /usr/local/lib/python3.10/dist-packages (from pydantic<3,>=2->dwave-cloud-client<0.14.0,>=0.12.0->dwave-system) (0.7.0)\n",
            "Requirement already satisfied: pydantic-core==2.23.4 in /usr/local/lib/python3.10/dist-packages (from pydantic<3,>=2->dwave-cloud-client<0.14.0,>=0.12.0->dwave-system) (2.23.4)\n",
            "Requirement already satisfied: six>=1.5 in /usr/local/lib/python3.10/dist-packages (from python-dateutil<3,>=2.7->dwave-cloud-client<0.14.0,>=0.12.0->dwave-system) (1.16.0)\n",
            "Requirement already satisfied: charset-normalizer<4,>=2 in /usr/local/lib/python3.10/dist-packages (from requests<3,>=2.25->requests[socks]<3,>=2.25->dwave-cloud-client<0.14.0,>=0.12.0->dwave-system) (3.4.0)\n",
            "Requirement already satisfied: idna<4,>=2.5 in /usr/local/lib/python3.10/dist-packages (from requests<3,>=2.25->requests[socks]<3,>=2.25->dwave-cloud-client<0.14.0,>=0.12.0->dwave-system) (3.10)\n",
            "Requirement already satisfied: certifi>=2017.4.17 in /usr/local/lib/python3.10/dist-packages (from requests<3,>=2.25->requests[socks]<3,>=2.25->dwave-cloud-client<0.14.0,>=0.12.0->dwave-system) (2024.8.30)\n",
            "Requirement already satisfied: PySocks!=1.5.7,>=1.5.6 in /usr/local/lib/python3.10/dist-packages (from requests[socks]<3,>=2.25->dwave-cloud-client<0.14.0,>=0.12.0->dwave-system) (1.7.1)\n",
            "Requirement already satisfied: MarkupSafe>=2.1.1 in /usr/local/lib/python3.10/dist-packages (from werkzeug<4,>=2.2->dwave-cloud-client<0.14.0,>=0.12.0->dwave-system) (3.0.2)\n",
            "Requirement already satisfied: cffi>=1.12 in /usr/local/lib/python3.10/dist-packages (from cryptography->authlib<2,>=1.2->dwave-cloud-client<0.14.0,>=0.12.0->dwave-system) (1.17.1)\n",
            "Requirement already satisfied: pycparser in /usr/local/lib/python3.10/dist-packages (from cffi>=1.12->cryptography->authlib<2,>=1.2->dwave-cloud-client<0.14.0,>=0.12.0->dwave-system) (2.22)\n"
          ]
        }
      ],
      "source": [
        "!pip install docplex\n",
        "!pip install qiskit_optimization\n",
        "!pip install cplex\n",
        "!pip intall qiskit\n",
        "!pip install qiskit-aer\n",
        "!pip install qiskit_algorithms\n",
        "!pip intall dimod\n",
        "!pip install dwave-system"
      ]
    },
    {
      "cell_type": "code",
      "execution_count": 226,
      "metadata": {
        "id": "1Ux9cfNgX1GU"
      },
      "outputs": [],
      "source": [
        "import numpy as np\n",
        "from collections import defaultdict\n",
        "import docplex\n",
        "import cplex\n",
        "from docplex.mp.model import Model #Mathematical Programming model\n",
        "from qiskit_optimization import QuadraticProgram\n",
        "from qiskit_optimization.translators import from_docplex_mp"
      ]
    },
    {
      "cell_type": "code",
      "execution_count": 227,
      "metadata": {
        "id": "Z-ZaoCaElH5V"
      },
      "outputs": [],
      "source": [
        "# Docplex model\n",
        "def BPP_model(n, m, w, P):\n",
        "  # create a Model instance\n",
        "  model = Model('BPP') # stores all the information of our model\n",
        "\n",
        "  # define decision variables\n",
        "  x = model.binary_var_list([f'x{i}' for i in range(m)])\n",
        "  k = model.binary_var_list([f'k{i},{j}' for i in range(m) for j in range(n)])\n",
        "\n",
        "  # define constraints\n",
        "  for j in range(n):\n",
        "    const_0 = model.sum([k[i * n + j] for i in range(m)])\n",
        "    model.add_constraint(const_0 == 1)\n",
        "\n",
        "  for i in range(m):\n",
        "    const_1 = model.sum([w[j] * k[i * n + j] for j in range(n)])\n",
        "    model.add_constraint(const_1 <= P * x[i])\n",
        "\n",
        "  # define linear expressions\n",
        "  obj_function = model.sum([x[i] for i in range(m)])\n",
        "\n",
        "  # define objective function\n",
        "  model.minimize(obj_function)\n",
        "\n",
        "  # load from Docplex model to QuadraticProgram to make construct an optimization problem\n",
        "  qp = from_docplex_mp(model)\n",
        "\n",
        "  return model, qp"
      ]
    },
    {
      "cell_type": "markdown",
      "metadata": {
        "id": "fsWbvTUeiA9P"
      },
      "source": [
        "*   Create a function to transform the ILP model into a QUBO."
      ]
    },
    {
      "cell_type": "code",
      "execution_count": 228,
      "metadata": {
        "id": "QURT1KI5K01h"
      },
      "outputs": [],
      "source": [
        "from qiskit_optimization.converters import InequalityToEquality\n",
        "from qiskit_optimization.converters import IntegerToBinary\n",
        "from qiskit_optimization.converters import LinearEqualityToPenalty\n",
        "from qiskit_optimization.converters import QuadraticProgramToQubo\n",
        "from qiskit_optimization.algorithms import CplexOptimizer\n",
        "\n",
        "def QUBO_BPP(qp):\n",
        "  # add slack variables to converto from inequality to equality\n",
        "  ineq2eq = InequalityToEquality()\n",
        "  qp_eq = ineq2eq.convert(qp)\n",
        "\n",
        "  # converts the slack variable into its binary representation\n",
        "  int2bin = IntegerToBinary()\n",
        "  qp_eq_bin = int2bin.convert(qp_eq)\n",
        "\n",
        "  # converts linear equality to penalty\n",
        "  lineq2penalty = LinearEqualityToPenalty()\n",
        "  qp_eq_bin_pen = lineq2penalty.convert(qp_eq_bin)\n",
        "\n",
        "  # makes a qubo representation of the binary optimization problem\n",
        "  conv2= QuadraticProgramToQubo()\n",
        "  qubo = conv2.convert(qp_eq_bin_pen)\n",
        "\n",
        "  return qubo"
      ]
    },
    {
      "cell_type": "markdown",
      "metadata": {
        "id": "H-Ob0mBKihn9"
      },
      "source": [
        "*   Test your function with specific instances (size small, medium, and big)"
      ]
    },
    {
      "cell_type": "code",
      "execution_count": 229,
      "metadata": {
        "colab": {
          "base_uri": "https://localhost:8080/"
        },
        "id": "tedKDDflSJW8",
        "outputId": "5ac1e497-467a-418b-a3a7-154947d36f0e"
      },
      "outputs": [
        {
          "output_type": "stream",
          "name": "stdout",
          "text": [
            "weights:  defaultdict(<class 'int'>, {0: 1, 1: 2, 2: 1})\n",
            "Problem name: BPP\n",
            "\n",
            "Minimize\n",
            "  4*c3@int_slack@0^2 + 16*c3@int_slack@0*c3@int_slack@1 + 16*c3@int_slack@1^2\n",
            "  + 4*c4@int_slack@0^2 + 16*c4@int_slack@0*c4@int_slack@1 + 16*c4@int_slack@1^2\n",
            "  + 4*c5@int_slack@0^2 + 16*c5@int_slack@0*c5@int_slack@1 + 16*c5@int_slack@1^2\n",
            "  + 8*k0,0*c3@int_slack@0 + 16*k0,0*c3@int_slack@1 + 8*k0,0^2 + 16*k0,0*k0,1\n",
            "  + 8*k0,0*k0,2 + 8*k0,0*k1,0 + 8*k0,0*k2,0 + 16*k0,1*c3@int_slack@0\n",
            "  + 32*k0,1*c3@int_slack@1 + 20*k0,1^2 + 16*k0,1*k0,2 + 8*k0,1*k1,1\n",
            "  + 8*k0,1*k2,1 + 8*k0,2*c3@int_slack@0 + 16*k0,2*c3@int_slack@1 + 8*k0,2^2\n",
            "  + 8*k0,2*k1,2 + 8*k0,2*k2,2 + 8*k1,0*c4@int_slack@0 + 16*k1,0*c4@int_slack@1\n",
            "  + 8*k1,0^2 + 16*k1,0*k1,1 + 8*k1,0*k1,2 + 8*k1,0*k2,0 + 16*k1,1*c4@int_slack@0\n",
            "  + 32*k1,1*c4@int_slack@1 + 20*k1,1^2 + 16*k1,1*k1,2 + 8*k1,1*k2,1\n",
            "  + 8*k1,2*c4@int_slack@0 + 16*k1,2*c4@int_slack@1 + 8*k1,2^2 + 8*k1,2*k2,2\n",
            "  + 8*k2,0*c5@int_slack@0 + 16*k2,0*c5@int_slack@1 + 8*k2,0^2 + 16*k2,0*k2,1\n",
            "  + 8*k2,0*k2,2 + 16*k2,1*c5@int_slack@0 + 32*k2,1*c5@int_slack@1 + 20*k2,1^2\n",
            "  + 16*k2,1*k2,2 + 8*k2,2*c5@int_slack@0 + 16*k2,2*c5@int_slack@1 + 8*k2,2^2\n",
            "  - 24*x0*c3@int_slack@0 - 48*x0*c3@int_slack@1 - 24*x0*k0,0 - 48*x0*k0,1\n",
            "  - 24*x0*k0,2 + 36*x0^2 - 24*x1*c4@int_slack@0 - 48*x1*c4@int_slack@1\n",
            "  - 24*x1*k1,0 - 48*x1*k1,1 - 24*x1*k1,2 + 36*x1^2 - 24*x2*c5@int_slack@0\n",
            "  - 48*x2*c5@int_slack@1 - 24*x2*k2,0 - 48*x2*k2,1 - 24*x2*k2,2 + 36*x2^2\n",
            "  - 8*k0,0 - 8*k0,1 - 8*k0,2 - 8*k1,0 - 8*k1,1 - 8*k1,2 - 8*k2,0 - 8*k2,1\n",
            "  - 8*k2,2 + x0 + x1 + x2 + 12\n",
            "\n",
            "Subject to\n",
            "  No constraints\n",
            "\n",
            "  Binary variables (18)\n",
            "    x0 x1 x2 k0,0 k0,1 k0,2 k1,0 k1,1 k1,2 k2,0 k2,1 k2,2 c3@int_slack@0\n",
            "    c3@int_slack@1 c4@int_slack@0 c4@int_slack@1 c5@int_slack@0 c5@int_slack@1\n",
            "\n"
          ]
        }
      ],
      "source": [
        "#Size small\n",
        "n = 3 # number of items\n",
        "m = n # number of allowed bins\n",
        "P = 3 # maximum weight of the bins\n",
        "\n",
        "w = defaultdict(int) # weights of the items\n",
        "\n",
        "for j in range(n):\n",
        "  w[j] = np.random.randint(1, P)\n",
        "print('weights: ', w)\n",
        "\n",
        "model, qp = BPP_model(n, m, w, P)\n",
        "qubo = QUBO_BPP(qp)\n",
        "print(qubo.prettyprint())"
      ]
    },
    {
      "cell_type": "code",
      "execution_count": 230,
      "metadata": {
        "colab": {
          "base_uri": "https://localhost:8080/"
        },
        "id": "jNP_GpW0ixLk",
        "outputId": "7b204f7d-2b64-49e0-dfa6-abfad2cac0d7"
      },
      "outputs": [
        {
          "output_type": "stream",
          "name": "stdout",
          "text": [
            "weights:  defaultdict(<class 'int'>, {0: 6, 1: 1, 2: 3})\n",
            "Problem name: BPP\n",
            "\n",
            "Minimize\n",
            "  4*c3@int_slack@0^2 + 16*c3@int_slack@0*c3@int_slack@1\n",
            "  + 32*c3@int_slack@0*c3@int_slack@2 + 16*c3@int_slack@1^2\n",
            "  + 64*c3@int_slack@1*c3@int_slack@2 + 64*c3@int_slack@2^2 + 4*c4@int_slack@0^2\n",
            "  + 16*c4@int_slack@0*c4@int_slack@1 + 32*c4@int_slack@0*c4@int_slack@2\n",
            "  + 16*c4@int_slack@1^2 + 64*c4@int_slack@1*c4@int_slack@2 + 64*c4@int_slack@2^2\n",
            "  + 4*c5@int_slack@0^2 + 16*c5@int_slack@0*c5@int_slack@1\n",
            "  + 32*c5@int_slack@0*c5@int_slack@2 + 16*c5@int_slack@1^2\n",
            "  + 64*c5@int_slack@1*c5@int_slack@2 + 64*c5@int_slack@2^2\n",
            "  + 48*k0,0*c3@int_slack@0 + 96*k0,0*c3@int_slack@1 + 192*k0,0*c3@int_slack@2\n",
            "  + 148*k0,0^2 + 48*k0,0*k0,1 + 144*k0,0*k0,2 + 8*k0,0*k1,0 + 8*k0,0*k2,0\n",
            "  + 8*k0,1*c3@int_slack@0 + 16*k0,1*c3@int_slack@1 + 32*k0,1*c3@int_slack@2\n",
            "  + 8*k0,1^2 + 24*k0,1*k0,2 + 8*k0,1*k1,1 + 8*k0,1*k2,1 + 24*k0,2*c3@int_slack@0\n",
            "  + 48*k0,2*c3@int_slack@1 + 96*k0,2*c3@int_slack@2 + 40*k0,2^2 + 8*k0,2*k1,2\n",
            "  + 8*k0,2*k2,2 + 48*k1,0*c4@int_slack@0 + 96*k1,0*c4@int_slack@1\n",
            "  + 192*k1,0*c4@int_slack@2 + 148*k1,0^2 + 48*k1,0*k1,1 + 144*k1,0*k1,2\n",
            "  + 8*k1,0*k2,0 + 8*k1,1*c4@int_slack@0 + 16*k1,1*c4@int_slack@1\n",
            "  + 32*k1,1*c4@int_slack@2 + 8*k1,1^2 + 24*k1,1*k1,2 + 8*k1,1*k2,1\n",
            "  + 24*k1,2*c4@int_slack@0 + 48*k1,2*c4@int_slack@1 + 96*k1,2*c4@int_slack@2\n",
            "  + 40*k1,2^2 + 8*k1,2*k2,2 + 48*k2,0*c5@int_slack@0 + 96*k2,0*c5@int_slack@1\n",
            "  + 192*k2,0*c5@int_slack@2 + 148*k2,0^2 + 48*k2,0*k2,1 + 144*k2,0*k2,2\n",
            "  + 8*k2,1*c5@int_slack@0 + 16*k2,1*c5@int_slack@1 + 32*k2,1*c5@int_slack@2\n",
            "  + 8*k2,1^2 + 24*k2,1*k2,2 + 24*k2,2*c5@int_slack@0 + 48*k2,2*c5@int_slack@1\n",
            "  + 96*k2,2*c5@int_slack@2 + 40*k2,2^2 - 56*x0*c3@int_slack@0\n",
            "  - 112*x0*c3@int_slack@1 - 224*x0*c3@int_slack@2 - 336*x0*k0,0 - 56*x0*k0,1\n",
            "  - 168*x0*k0,2 + 196*x0^2 - 56*x1*c4@int_slack@0 - 112*x1*c4@int_slack@1\n",
            "  - 224*x1*c4@int_slack@2 - 336*x1*k1,0 - 56*x1*k1,1 - 168*x1*k1,2 + 196*x1^2\n",
            "  - 56*x2*c5@int_slack@0 - 112*x2*c5@int_slack@1 - 224*x2*c5@int_slack@2\n",
            "  - 336*x2*k2,0 - 56*x2*k2,1 - 168*x2*k2,2 + 196*x2^2 - 8*k0,0 - 8*k0,1 - 8*k0,2\n",
            "  - 8*k1,0 - 8*k1,1 - 8*k1,2 - 8*k2,0 - 8*k2,1 - 8*k2,2 + x0 + x1 + x2 + 12\n",
            "\n",
            "Subject to\n",
            "  No constraints\n",
            "\n",
            "  Binary variables (21)\n",
            "    x0 x1 x2 k0,0 k0,1 k0,2 k1,0 k1,1 k1,2 k2,0 k2,1 k2,2 c3@int_slack@0\n",
            "    c3@int_slack@1 c3@int_slack@2 c4@int_slack@0 c4@int_slack@1 c4@int_slack@2\n",
            "    c5@int_slack@0 c5@int_slack@1 c5@int_slack@2\n",
            "\n"
          ]
        }
      ],
      "source": [
        "#Size medium\n",
        "n = 3 # number of items\n",
        "m = n # number of allowed bins\n",
        "P = 7 # maximum weight of the bins\n",
        "w = defaultdict(int) # weights of the items\n",
        "\n",
        "for j in range(n):\n",
        "  w[j] = np.random.randint(1, P)\n",
        "print('weights: ', w)\n",
        "\n",
        "model, qp = BPP_model(n, m, w, P)\n",
        "qubo = QUBO_BPP(qp)\n",
        "print(qubo.prettyprint())"
      ]
    },
    {
      "cell_type": "code",
      "execution_count": 231,
      "metadata": {
        "colab": {
          "base_uri": "https://localhost:8080/"
        },
        "id": "Xwbl9TqNP1Hz",
        "outputId": "a462ba94-271b-443c-8a6e-380334961225"
      },
      "outputs": [
        {
          "output_type": "stream",
          "name": "stdout",
          "text": [
            "weights:  defaultdict(<class 'int'>, {0: 11, 1: 9, 2: 8, 3: 8, 4: 5})\n",
            "Problem name: BPP\n",
            "\n",
            "Minimize\n",
            "  6*c5@int_slack@0^2 + 24*c5@int_slack@0*c5@int_slack@1\n",
            "  + 48*c5@int_slack@0*c5@int_slack@2 + 60*c5@int_slack@0*c5@int_slack@3\n",
            "  + 24*c5@int_slack@1^2 + 96*c5@int_slack@1*c5@int_slack@2\n",
            "  + 120*c5@int_slack@1*c5@int_slack@3 + 96*c5@int_slack@2^2\n",
            "  + 240*c5@int_slack@2*c5@int_slack@3 + 150*c5@int_slack@3^2\n",
            "  + 6*c6@int_slack@0^2 + 24*c6@int_slack@0*c6@int_slack@1\n",
            "  + 48*c6@int_slack@0*c6@int_slack@2 + 60*c6@int_slack@0*c6@int_slack@3\n",
            "  + 24*c6@int_slack@1^2 + 96*c6@int_slack@1*c6@int_slack@2\n",
            "  + 120*c6@int_slack@1*c6@int_slack@3 + 96*c6@int_slack@2^2\n",
            "  + 240*c6@int_slack@2*c6@int_slack@3 + 150*c6@int_slack@3^2\n",
            "  + 6*c7@int_slack@0^2 + 24*c7@int_slack@0*c7@int_slack@1\n",
            "  + 48*c7@int_slack@0*c7@int_slack@2 + 60*c7@int_slack@0*c7@int_slack@3\n",
            "  + 24*c7@int_slack@1^2 + 96*c7@int_slack@1*c7@int_slack@2\n",
            "  + 120*c7@int_slack@1*c7@int_slack@3 + 96*c7@int_slack@2^2\n",
            "  + 240*c7@int_slack@2*c7@int_slack@3 + 150*c7@int_slack@3^2\n",
            "  + 6*c8@int_slack@0^2 + 24*c8@int_slack@0*c8@int_slack@1\n",
            "  + 48*c8@int_slack@0*c8@int_slack@2 + 60*c8@int_slack@0*c8@int_slack@3\n",
            "  + 24*c8@int_slack@1^2 + 96*c8@int_slack@1*c8@int_slack@2\n",
            "  + 120*c8@int_slack@1*c8@int_slack@3 + 96*c8@int_slack@2^2\n",
            "  + 240*c8@int_slack@2*c8@int_slack@3 + 150*c8@int_slack@3^2\n",
            "  + 6*c9@int_slack@0^2 + 24*c9@int_slack@0*c9@int_slack@1\n",
            "  + 48*c9@int_slack@0*c9@int_slack@2 + 60*c9@int_slack@0*c9@int_slack@3\n",
            "  + 24*c9@int_slack@1^2 + 96*c9@int_slack@1*c9@int_slack@2\n",
            "  + 120*c9@int_slack@1*c9@int_slack@3 + 96*c9@int_slack@2^2\n",
            "  + 240*c9@int_slack@2*c9@int_slack@3 + 150*c9@int_slack@3^2\n",
            "  + 132*k0,0*c5@int_slack@0 + 264*k0,0*c5@int_slack@1 + 528*k0,0*c5@int_slack@2\n",
            "  + 660*k0,0*c5@int_slack@3 + 732*k0,0^2 + 1188*k0,0*k0,1 + 1056*k0,0*k0,2\n",
            "  + 1056*k0,0*k0,3 + 660*k0,0*k0,4 + 12*k0,0*k1,0 + 12*k0,0*k2,0 + 12*k0,0*k3,0\n",
            "  + 12*k0,0*k4,0 + 108*k0,1*c5@int_slack@0 + 216*k0,1*c5@int_slack@1\n",
            "  + 432*k0,1*c5@int_slack@2 + 540*k0,1*c5@int_slack@3 + 492*k0,1^2\n",
            "  + 864*k0,1*k0,2 + 864*k0,1*k0,3 + 540*k0,1*k0,4 + 12*k0,1*k1,1 + 12*k0,1*k2,1\n",
            "  + 12*k0,1*k3,1 + 12*k0,1*k4,1 + 96*k0,2*c5@int_slack@0\n",
            "  + 192*k0,2*c5@int_slack@1 + 384*k0,2*c5@int_slack@2 + 480*k0,2*c5@int_slack@3\n",
            "  + 390*k0,2^2 + 768*k0,2*k0,3 + 480*k0,2*k0,4 + 12*k0,2*k1,2 + 12*k0,2*k2,2\n",
            "  + 12*k0,2*k3,2 + 12*k0,2*k4,2 + 96*k0,3*c5@int_slack@0\n",
            "  + 192*k0,3*c5@int_slack@1 + 384*k0,3*c5@int_slack@2 + 480*k0,3*c5@int_slack@3\n",
            "  + 390*k0,3^2 + 480*k0,3*k0,4 + 12*k0,3*k1,3 + 12*k0,3*k2,3 + 12*k0,3*k3,3\n",
            "  + 12*k0,3*k4,3 + 60*k0,4*c5@int_slack@0 + 120*k0,4*c5@int_slack@1\n",
            "  + 240*k0,4*c5@int_slack@2 + 300*k0,4*c5@int_slack@3 + 156*k0,4^2\n",
            "  + 12*k0,4*k1,4 + 12*k0,4*k2,4 + 12*k0,4*k3,4 + 12*k0,4*k4,4\n",
            "  + 132*k1,0*c6@int_slack@0 + 264*k1,0*c6@int_slack@1 + 528*k1,0*c6@int_slack@2\n",
            "  + 660*k1,0*c6@int_slack@3 + 732*k1,0^2 + 1188*k1,0*k1,1 + 1056*k1,0*k1,2\n",
            "  + 1056*k1,0*k1,3 + 660*k1,0*k1,4 + 12*k1,0*k2,0 + 12*k1,0*k3,0 + 12*k1,0*k4,0\n",
            "  + 108*k1,1*c6@int_slack@0 + 216*k1,1*c6@int_slack@1 + 432*k1,1*c6@int_slack@2\n",
            "  + 540*k1,1*c6@int_slack@3 + 492*k1,1^2 + 864*k1,1*k1,2 + 864*k1,1*k1,3\n",
            "  + 540*k1,1*k1,4 + 12*k1,1*k2,1 + 12*k1,1*k3,1 + 12*k1,1*k4,1\n",
            "  + 96*k1,2*c6@int_slack@0 + 192*k1,2*c6@int_slack@1 + 384*k1,2*c6@int_slack@2\n",
            "  + 480*k1,2*c6@int_slack@3 + 390*k1,2^2 + 768*k1,2*k1,3 + 480*k1,2*k1,4\n",
            "  + 12*k1,2*k2,2 + 12*k1,2*k3,2 + 12*k1,2*k4,2 + 96*k1,3*c6@int_slack@0\n",
            "  + 192*k1,3*c6@int_slack@1 + 384*k1,3*c6@int_slack@2 + 480*k1,3*c6@int_slack@3\n",
            "  + 390*k1,3^2 + 480*k1,3*k1,4 + 12*k1,3*k2,3 + 12*k1,3*k3,3 + 12*k1,3*k4,3\n",
            "  + 60*k1,4*c6@int_slack@0 + 120*k1,4*c6@int_slack@1 + 240*k1,4*c6@int_slack@2\n",
            "  + 300*k1,4*c6@int_slack@3 + 156*k1,4^2 + 12*k1,4*k2,4 + 12*k1,4*k3,4\n",
            "  + 12*k1,4*k4,4 + 132*k2,0*c7@int_slack@0 + 264*k2,0*c7@int_slack@1\n",
            "  + 528*k2,0*c7@int_slack@2 + 660*k2,0*c7@int_slack@3 + 732*k2,0^2\n",
            "  + 1188*k2,0*k2,1 + 1056*k2,0*k2,2 + 1056*k2,0*k2,3 + 660*k2,0*k2,4\n",
            "  + 12*k2,0*k3,0 + 12*k2,0*k4,0 + 108*k2,1*c7@int_slack@0\n",
            "  + 216*k2,1*c7@int_slack@1 + 432*k2,1*c7@int_slack@2 + 540*k2,1*c7@int_slack@3\n",
            "  + 492*k2,1^2 + 864*k2,1*k2,2 + 864*k2,1*k2,3 + 540*k2,1*k2,4 + 12*k2,1*k3,1\n",
            "  + 12*k2,1*k4,1 + 96*k2,2*c7@int_slack@0 + 192*k2,2*c7@int_slack@1\n",
            "  + 384*k2,2*c7@int_slack@2 + 480*k2,2*c7@int_slack@3 + 390*k2,2^2\n",
            "  + 768*k2,2*k2,3 + 480*k2,2*k2,4 + 12*k2,2*k3,2 + 12*k2,2*k4,2\n",
            "  + 96*k2,3*c7@int_slack@0 + 192*k2,3*c7@int_slack@1 + 384*k2,3*c7@int_slack@2\n",
            "  + 480*k2,3*c7@int_slack@3 + 390*k2,3^2 + 480*k2,3*k2,4 + 12*k2,3*k3,3\n",
            "  + 12*k2,3*k4,3 + 60*k2,4*c7@int_slack@0 + 120*k2,4*c7@int_slack@1\n",
            "  + 240*k2,4*c7@int_slack@2 + 300*k2,4*c7@int_slack@3 + 156*k2,4^2\n",
            "  + 12*k2,4*k3,4 + 12*k2,4*k4,4 + 132*k3,0*c8@int_slack@0\n",
            "  + 264*k3,0*c8@int_slack@1 + 528*k3,0*c8@int_slack@2 + 660*k3,0*c8@int_slack@3\n",
            "  + 732*k3,0^2 + 1188*k3,0*k3,1 + 1056*k3,0*k3,2 + 1056*k3,0*k3,3\n",
            "  + 660*k3,0*k3,4 + 12*k3,0*k4,0 + 108*k3,1*c8@int_slack@0\n",
            "  + 216*k3,1*c8@int_slack@1 + 432*k3,1*c8@int_slack@2 + 540*k3,1*c8@int_slack@3\n",
            "  + 492*k3,1^2 + 864*k3,1*k3,2 + 864*k3,1*k3,3 + 540*k3,1*k3,4 + 12*k3,1*k4,1\n",
            "  + 96*k3,2*c8@int_slack@0 + 192*k3,2*c8@int_slack@1 + 384*k3,2*c8@int_slack@2\n",
            "  + 480*k3,2*c8@int_slack@3 + 390*k3,2^2 + 768*k3,2*k3,3 + 480*k3,2*k3,4\n",
            "  + 12*k3,2*k4,2 + 96*k3,3*c8@int_slack@0 + 192*k3,3*c8@int_slack@1\n",
            "  + 384*k3,3*c8@int_slack@2 + 480*k3,3*c8@int_slack@3 + 390*k3,3^2\n",
            "  + 480*k3,3*k3,4 + 12*k3,3*k4,3 + 60*k3,4*c8@int_slack@0\n",
            "  + 120*k3,4*c8@int_slack@1 + 240*k3,4*c8@int_slack@2 + 300*k3,4*c8@int_slack@3\n",
            "  + 156*k3,4^2 + 12*k3,4*k4,4 + 132*k4,0*c9@int_slack@0\n",
            "  + 264*k4,0*c9@int_slack@1 + 528*k4,0*c9@int_slack@2 + 660*k4,0*c9@int_slack@3\n",
            "  + 732*k4,0^2 + 1188*k4,0*k4,1 + 1056*k4,0*k4,2 + 1056*k4,0*k4,3\n",
            "  + 660*k4,0*k4,4 + 108*k4,1*c9@int_slack@0 + 216*k4,1*c9@int_slack@1\n",
            "  + 432*k4,1*c9@int_slack@2 + 540*k4,1*c9@int_slack@3 + 492*k4,1^2\n",
            "  + 864*k4,1*k4,2 + 864*k4,1*k4,3 + 540*k4,1*k4,4 + 96*k4,2*c9@int_slack@0\n",
            "  + 192*k4,2*c9@int_slack@1 + 384*k4,2*c9@int_slack@2 + 480*k4,2*c9@int_slack@3\n",
            "  + 390*k4,2^2 + 768*k4,2*k4,3 + 480*k4,2*k4,4 + 96*k4,3*c9@int_slack@0\n",
            "  + 192*k4,3*c9@int_slack@1 + 384*k4,3*c9@int_slack@2 + 480*k4,3*c9@int_slack@3\n",
            "  + 390*k4,3^2 + 480*k4,3*k4,4 + 60*k4,4*c9@int_slack@0\n",
            "  + 120*k4,4*c9@int_slack@1 + 240*k4,4*c9@int_slack@2 + 300*k4,4*c9@int_slack@3\n",
            "  + 156*k4,4^2 - 144*x0*c5@int_slack@0 - 288*x0*c5@int_slack@1\n",
            "  - 576*x0*c5@int_slack@2 - 720*x0*c5@int_slack@3 - 1584*x0*k0,0 - 1296*x0*k0,1\n",
            "  - 1152*x0*k0,2 - 1152*x0*k0,3 - 720*x0*k0,4 + 864*x0^2 - 144*x1*c6@int_slack@0\n",
            "  - 288*x1*c6@int_slack@1 - 576*x1*c6@int_slack@2 - 720*x1*c6@int_slack@3\n",
            "  - 1584*x1*k1,0 - 1296*x1*k1,1 - 1152*x1*k1,2 - 1152*x1*k1,3 - 720*x1*k1,4\n",
            "  + 864*x1^2 - 144*x2*c7@int_slack@0 - 288*x2*c7@int_slack@1\n",
            "  - 576*x2*c7@int_slack@2 - 720*x2*c7@int_slack@3 - 1584*x2*k2,0 - 1296*x2*k2,1\n",
            "  - 1152*x2*k2,2 - 1152*x2*k2,3 - 720*x2*k2,4 + 864*x2^2 - 144*x3*c8@int_slack@0\n",
            "  - 288*x3*c8@int_slack@1 - 576*x3*c8@int_slack@2 - 720*x3*c8@int_slack@3\n",
            "  - 1584*x3*k3,0 - 1296*x3*k3,1 - 1152*x3*k3,2 - 1152*x3*k3,3 - 720*x3*k3,4\n",
            "  + 864*x3^2 - 144*x4*c9@int_slack@0 - 288*x4*c9@int_slack@1\n",
            "  - 576*x4*c9@int_slack@2 - 720*x4*c9@int_slack@3 - 1584*x4*k4,0 - 1296*x4*k4,1\n",
            "  - 1152*x4*k4,2 - 1152*x4*k4,3 - 720*x4*k4,4 + 864*x4^2 - 12*k0,0 - 12*k0,1\n",
            "  - 12*k0,2 - 12*k0,3 - 12*k0,4 - 12*k1,0 - 12*k1,1 - 12*k1,2 - 12*k1,3\n",
            "  - 12*k1,4 - 12*k2,0 - 12*k2,1 - 12*k2,2 - 12*k2,3 - 12*k2,4 - 12*k3,0\n",
            "  - 12*k3,1 - 12*k3,2 - 12*k3,3 - 12*k3,4 - 12*k4,0 - 12*k4,1 - 12*k4,2\n",
            "  - 12*k4,3 - 12*k4,4 + x0 + x1 + x2 + x3 + x4 + 30\n",
            "\n",
            "Subject to\n",
            "  No constraints\n",
            "\n",
            "  Binary variables (50)\n",
            "    x0 x1 x2 x3 x4 k0,0 k0,1 k0,2 k0,3 k0,4 k1,0 k1,1 k1,2 k1,3 k1,4 k2,0 k2,1\n",
            "    k2,2 k2,3 k2,4 k3,0 k3,1 k3,2 k3,3 k3,4 k4,0 k4,1 k4,2 k4,3 k4,4\n",
            "    c5@int_slack@0 c5@int_slack@1 c5@int_slack@2 c5@int_slack@3 c6@int_slack@0\n",
            "    c6@int_slack@1 c6@int_slack@2 c6@int_slack@3 c7@int_slack@0 c7@int_slack@1\n",
            "    c7@int_slack@2 c7@int_slack@3 c8@int_slack@0 c8@int_slack@1 c8@int_slack@2\n",
            "    c8@int_slack@3 c9@int_slack@0 c9@int_slack@1 c9@int_slack@2 c9@int_slack@3\n",
            "\n"
          ]
        }
      ],
      "source": [
        "#Big medium\n",
        "n = 5 # number of items\n",
        "m = n # number of allowed bins\n",
        "P = 12 # maximum weight of the bins\n",
        "w = defaultdict(int) # weights of the items\n",
        "\n",
        "for j in range(n):\n",
        "  w[j] = np.random.randint(1, P)\n",
        "print('weights: ', w)\n",
        "\n",
        "model, qp = BPP_model(n, m, w, P)\n",
        "qubo = QUBO_BPP(qp)\n",
        "print(qubo.prettyprint())"
      ]
    },
    {
      "cell_type": "markdown",
      "metadata": {
        "id": "oCd6RLIwomKJ"
      },
      "source": [
        "#### 2. Create a Brute Force solver for the QUBO problem and solve the specific instances."
      ]
    },
    {
      "cell_type": "code",
      "execution_count": 232,
      "metadata": {
        "id": "8R7VakycjnBP"
      },
      "outputs": [],
      "source": [
        "def BF_QUBO(qubo):\n",
        "  # solves the qubo using\n",
        "  sol_qubo = CplexOptimizer().solve(qubo)\n",
        "  return sol_qubo"
      ]
    },
    {
      "cell_type": "markdown",
      "metadata": {
        "id": "bupa4DNeovXZ"
      },
      "source": [
        "#### 3. To solve the QUBO, use quantum annealing simulators. You can use Dwave Ocean Framework."
      ]
    },
    {
      "cell_type": "code",
      "execution_count": 233,
      "metadata": {
        "id": "9JlR0Tkqnd-d"
      },
      "outputs": [],
      "source": [
        "import dimod\n",
        "from dwave.system import DWaveSampler, EmbeddingComposite\n",
        "from dwave.samplers import SimulatedAnnealingSampler\n",
        "import pandas as pd\n",
        "import matplotlib.pyplot as plt\n",
        "\n",
        "def QA(num_bin_var, qubo):\n",
        "  bqm = dimod.as_bqm(qubo.objective.linear.to_array(), qubo.objective.quadratic.to_array(), dimod.BINARY)\n",
        "\n",
        "  # Define the sampler\n",
        "  sampler = SimulatedAnnealingSampler()\n",
        "\n",
        "  # Sample the BQM and store the results in the SampleSet object\n",
        "  sampleset = sampler.sample(bqm, num_reads = 1024)\n",
        "\n",
        "  df = sampleset.to_pandas_dataframe().sort_values('energy')\n",
        "\n",
        "  samples_dwave = defaultdict(int)\n",
        "\n",
        "  for i, row in df.iterrows():\n",
        "    sample_i = ''.join(str(round(row[q])) for q in range(num_bin_var))\n",
        "    samples_dwave[sample_i] += int(row['num_occurrences'])\n",
        "\n",
        "  return samples_dwave"
      ]
    },
    {
      "cell_type": "markdown",
      "metadata": {
        "id": "eDINlTsFo6Gy"
      },
      "source": [
        "#### 4. Use a quantum variational approach to solve the QUBO."
      ]
    },
    {
      "cell_type": "markdown",
      "metadata": {
        "id": "bgDhmQh_SISU"
      },
      "source": [
        "\n",
        "\n",
        "*   Create multiple Ansantz for testing.\n"
      ]
    },
    {
      "cell_type": "code",
      "execution_count": 234,
      "metadata": {
        "id": "NQgqa0YTdGrk"
      },
      "outputs": [],
      "source": [
        "from qiskit.circuit.library import TwoLocal\n",
        "\n",
        "def Ansantz_1(num_qubits):\n",
        "  return TwoLocal(num_qubits, 'ry', 'cz')\n",
        "\n",
        "def Ansantz_2(num_qubits):\n",
        "  return TwoLocal(num_qubits, 'rx', 'cz')\n",
        "\n",
        "def Ansantz_3(num_qubits):\n",
        "  return TwoLocal(num_qubits, 'h', 'crz')"
      ]
    },
    {
      "cell_type": "markdown",
      "metadata": {
        "id": "gEik6OqISTQy"
      },
      "source": [
        "*   Build a function with input being the QUBO and Ansantz. Using a hybrid approach solved the QUBO."
      ]
    },
    {
      "cell_type": "code",
      "execution_count": 235,
      "metadata": {
        "id": "PV9xn5WYT-Z0"
      },
      "outputs": [],
      "source": [
        "from qiskit_algorithms import SamplingVQE\n",
        "from qiskit.primitives import Sampler\n",
        "from qiskit_algorithms.optimizers import COBYLA\n",
        "from qiskit_optimization.algorithms import MinimumEigenOptimizer\n",
        "\n",
        "def VQE_BPP(qubo, ansantz):\n",
        "  bqm = dimod.as_bqm(qubo.objective.linear.to_array(), qubo.objective.quadratic.to_array(), dimod.BINARY)\n",
        "  # solves the qubo using VQE\n",
        "  vqe = MinimumEigenOptimizer(SamplingVQE(sampler = Sampler(), ansatz = ansantz, optimizer=COBYLA(maxiter=10)))\n",
        "\n",
        "  return vqe.solve(qp)"
      ]
    },
    {
      "cell_type": "markdown",
      "metadata": {
        "id": "aD9vO1LipDjR"
      },
      "source": [
        "#### 5. Use QAOA to solve the QUBO."
      ]
    },
    {
      "cell_type": "code",
      "execution_count": 236,
      "metadata": {
        "id": "SkwuFojcpGtM"
      },
      "outputs": [],
      "source": [
        "from qiskit.primitives import Sampler\n",
        "from qiskit_algorithms import QAOA\n",
        "\n",
        "def QAOA_BPP(qubo):\n",
        "  # solves the qubo using QAOA\n",
        "  qaoa = MinimumEigenOptimizer(QAOA(sampler = Sampler(), optimizer=COBYLA(maxiter=10)))\n",
        "\n",
        "  return qaoa.solve(qp)"
      ]
    },
    {
      "cell_type": "markdown",
      "metadata": {
        "id": "LiUQmfH7pJQB"
      },
      "source": [
        "#### 6. Compare and analyze the results."
      ]
    },
    {
      "cell_type": "markdown",
      "source": [
        "Let consider a small instance of three bins (n=3) and three elements (m=3) with random weights and a maximum weight of each bin of three (P=3)."
      ],
      "metadata": {
        "id": "djCetyvNr1tB"
      }
    },
    {
      "cell_type": "code",
      "execution_count": 237,
      "metadata": {
        "id": "TjOAnEzCpNRM",
        "colab": {
          "base_uri": "https://localhost:8080/"
        },
        "outputId": "1e7c7acd-f798-4f53-ec99-ff1be9d30205"
      },
      "outputs": [
        {
          "output_type": "stream",
          "name": "stdout",
          "text": [
            "weights:  defaultdict(<class 'int'>, {0: 2, 1: 1, 2: 2})\n"
          ]
        }
      ],
      "source": [
        "n = 3 # number of items\n",
        "m = n # number of allowed bins\n",
        "P = 3 # maximum weight of the bins\n",
        "\n",
        "w = defaultdict(int) # weights of the items\n",
        "\n",
        "for j in range(n):\n",
        "  w[j] = np.random.randint(1, P)\n",
        "print('weights: ', w)"
      ]
    },
    {
      "cell_type": "code",
      "source": [
        "# BPP Model\n",
        "model, qp = BPP_model(n, m, w, P)\n",
        "\n",
        "print(qp.prettyprint())"
      ],
      "metadata": {
        "colab": {
          "base_uri": "https://localhost:8080/"
        },
        "id": "3Y01psb4heza",
        "outputId": "cb341730-fb15-4156-cf6e-af90395b6c16"
      },
      "execution_count": 238,
      "outputs": [
        {
          "output_type": "stream",
          "name": "stdout",
          "text": [
            "Problem name: BPP\n",
            "\n",
            "Minimize\n",
            "  x0 + x1 + x2\n",
            "\n",
            "Subject to\n",
            "  Linear constraints (6)\n",
            "    k0,0 + k1,0 + k2,0 == 1  'c0'\n",
            "    k0,1 + k1,1 + k2,1 == 1  'c1'\n",
            "    k0,2 + k1,2 + k2,2 == 1  'c2'\n",
            "    2*k0,0 + k0,1 + 2*k0,2 - 3*x0 <= 0  'c3'\n",
            "    2*k1,0 + k1,1 + 2*k1,2 - 3*x1 <= 0  'c4'\n",
            "    2*k2,0 + k2,1 + 2*k2,2 - 3*x2 <= 0  'c5'\n",
            "\n",
            "  Binary variables (12)\n",
            "    x0 x1 x2 k0,0 k0,1 k0,2 k1,0 k1,1 k1,2 k2,0 k2,1 k2,2\n",
            "\n"
          ]
        }
      ]
    },
    {
      "cell_type": "markdown",
      "source": [
        "*   QUBO brute force"
      ],
      "metadata": {
        "id": "GuT443rze3FM"
      }
    },
    {
      "cell_type": "code",
      "source": [
        "qubo = QUBO_BPP(qp)\n",
        "print(qubo.prettyprint())"
      ],
      "metadata": {
        "colab": {
          "base_uri": "https://localhost:8080/"
        },
        "id": "R-hg23LxjTgM",
        "outputId": "b80737ff-f143-4e22-e744-affb6ddd0456"
      },
      "execution_count": 239,
      "outputs": [
        {
          "output_type": "stream",
          "name": "stdout",
          "text": [
            "Problem name: BPP\n",
            "\n",
            "Minimize\n",
            "  4*c3@int_slack@0^2 + 16*c3@int_slack@0*c3@int_slack@1 + 16*c3@int_slack@1^2\n",
            "  + 4*c4@int_slack@0^2 + 16*c4@int_slack@0*c4@int_slack@1 + 16*c4@int_slack@1^2\n",
            "  + 4*c5@int_slack@0^2 + 16*c5@int_slack@0*c5@int_slack@1 + 16*c5@int_slack@1^2\n",
            "  + 16*k0,0*c3@int_slack@0 + 32*k0,0*c3@int_slack@1 + 20*k0,0^2 + 16*k0,0*k0,1\n",
            "  + 32*k0,0*k0,2 + 8*k0,0*k1,0 + 8*k0,0*k2,0 + 8*k0,1*c3@int_slack@0\n",
            "  + 16*k0,1*c3@int_slack@1 + 8*k0,1^2 + 16*k0,1*k0,2 + 8*k0,1*k1,1 + 8*k0,1*k2,1\n",
            "  + 16*k0,2*c3@int_slack@0 + 32*k0,2*c3@int_slack@1 + 20*k0,2^2 + 8*k0,2*k1,2\n",
            "  + 8*k0,2*k2,2 + 16*k1,0*c4@int_slack@0 + 32*k1,0*c4@int_slack@1 + 20*k1,0^2\n",
            "  + 16*k1,0*k1,1 + 32*k1,0*k1,2 + 8*k1,0*k2,0 + 8*k1,1*c4@int_slack@0\n",
            "  + 16*k1,1*c4@int_slack@1 + 8*k1,1^2 + 16*k1,1*k1,2 + 8*k1,1*k2,1\n",
            "  + 16*k1,2*c4@int_slack@0 + 32*k1,2*c4@int_slack@1 + 20*k1,2^2 + 8*k1,2*k2,2\n",
            "  + 16*k2,0*c5@int_slack@0 + 32*k2,0*c5@int_slack@1 + 20*k2,0^2 + 16*k2,0*k2,1\n",
            "  + 32*k2,0*k2,2 + 8*k2,1*c5@int_slack@0 + 16*k2,1*c5@int_slack@1 + 8*k2,1^2\n",
            "  + 16*k2,1*k2,2 + 16*k2,2*c5@int_slack@0 + 32*k2,2*c5@int_slack@1 + 20*k2,2^2\n",
            "  - 24*x0*c3@int_slack@0 - 48*x0*c3@int_slack@1 - 48*x0*k0,0 - 24*x0*k0,1\n",
            "  - 48*x0*k0,2 + 36*x0^2 - 24*x1*c4@int_slack@0 - 48*x1*c4@int_slack@1\n",
            "  - 48*x1*k1,0 - 24*x1*k1,1 - 48*x1*k1,2 + 36*x1^2 - 24*x2*c5@int_slack@0\n",
            "  - 48*x2*c5@int_slack@1 - 48*x2*k2,0 - 24*x2*k2,1 - 48*x2*k2,2 + 36*x2^2\n",
            "  - 8*k0,0 - 8*k0,1 - 8*k0,2 - 8*k1,0 - 8*k1,1 - 8*k1,2 - 8*k2,0 - 8*k2,1\n",
            "  - 8*k2,2 + x0 + x1 + x2 + 12\n",
            "\n",
            "Subject to\n",
            "  No constraints\n",
            "\n",
            "  Binary variables (18)\n",
            "    x0 x1 x2 k0,0 k0,1 k0,2 k1,0 k1,1 k1,2 k2,0 k2,1 k2,2 c3@int_slack@0\n",
            "    c3@int_slack@1 c4@int_slack@0 c4@int_slack@1 c5@int_slack@0 c5@int_slack@1\n",
            "\n"
          ]
        }
      ]
    },
    {
      "cell_type": "code",
      "source": [
        "import pandas as pd\n",
        "import matplotlib.pyplot as plt\n",
        "\n",
        "def plot_sol(solution, n, m, P, title):\n",
        "  items = defaultdict(int)\n",
        "  for item in range(n):\n",
        "    items[f'item {item + 1}'] = np.zeros(m)\n",
        "\n",
        "  for bin in range(m):\n",
        "    for item in range(n):\n",
        "      if solution[bin] == '1' and solution[m + n * bin + item] == '1':\n",
        "        items[f'item {item + 1}'][bin] = w[item]\n",
        "\n",
        "  plotdata = pd.DataFrame(items, index = [i for i in range(1, n + 1)])\n",
        "  plotdata.plot(kind='bar', stacked=True, figsize=(4, 3))\n",
        "  plt.hlines(P,0-0.5,m-0.5,linestyle=\"--\", color=\"r\",label=\"Max W\")\n",
        "  plt.title(title)\n",
        "  plt.xlabel('Bins')\n",
        "  plt.ylabel('Weights')\n",
        "  plt.legend()\n",
        "  plt.show()"
      ],
      "metadata": {
        "id": "pWgPMM3GDRnY"
      },
      "execution_count": 240,
      "outputs": []
    },
    {
      "cell_type": "code",
      "source": [
        "# Brute force solution of the QUBO\n",
        "num_bin_var = len(qp.variables)\n",
        "\n",
        "sol_qubo = BF_QUBO(qubo)\n",
        "\n",
        "print('Brute force solution of the QUBO: ')\n",
        "print(sol_qubo.prettyprint())\n",
        "\n",
        "bf_sol = ''.join(str(round(sol_qubo[q])) for q in range(num_bin_var))\n",
        "\n",
        "plot_sol(bf_sol, n, m, P, 'Brute force solution of the QUBO')"
      ],
      "metadata": {
        "colab": {
          "base_uri": "https://localhost:8080/",
          "height": 421
        },
        "id": "oMl-SbahjreF",
        "outputId": "5dcb7c11-8718-44d3-adbc-0fddf0c73e5d"
      },
      "execution_count": 262,
      "outputs": [
        {
          "output_type": "stream",
          "name": "stdout",
          "text": [
            "Brute force solution of the QUBO: \n",
            "objective function value: 2.0\n",
            "variable values: x0=0.0, x1=1.0, x2=1.0, k0,0=0.0, k0,1=0.0, k0,2=0.0, k1,0=1.0, k1,1=1.0, k1,2=0.0, k2,0=0.0, k2,1=0.0, k2,2=1.0, c3@int_slack@0=0.0, c3@int_slack@1=0.0, c4@int_slack@0=0.0, c4@int_slack@1=0.0, c5@int_slack@0=1.0, c5@int_slack@1=0.0\n",
            "status: SUCCESS\n"
          ]
        },
        {
          "output_type": "display_data",
          "data": {
            "text/plain": [
              "<Figure size 400x300 with 1 Axes>"
            ],
            "image/png": "[encoded data removed]"
          },
          "metadata": {}
        }
      ]
    },
    {
      "cell_type": "markdown",
      "source": [
        "*   Quantum Annealing"
      ],
      "metadata": {
        "id": "92XNj2C2favm"
      }
    },
    {
      "cell_type": "code",
      "source": [
        "# Quantum Annealing solution\n",
        "samples_dwave = QA(num_bin_var, qubo)\n",
        "\n",
        "sol_qa = max(samples_dwave, key=samples_dwave.get)\n",
        "\n",
        "print('Solution of the BPP using QA: ', sol_qa)\n",
        "\n",
        "plot_sol(sol_qa, n, m, P, 'Quantum Annealing solution')"
      ],
      "metadata": {
        "colab": {
          "base_uri": "https://localhost:8080/",
          "height": 346
        },
        "id": "dKqcrbpS0wY3",
        "outputId": "a43a2512-214d-4764-a0f9-fec5afc4e5a4"
      },
      "execution_count": 263,
      "outputs": [
        {
          "output_type": "stream",
          "name": "stdout",
          "text": [
            "Solution of the BPP using QA:  110011100000\n"
          ]
        },
        {
          "output_type": "display_data",
          "data": {
            "text/plain": [
              "<Figure size 400x300 with 1 Axes>"
            ],
            "image/png": "[encoded data removed]"
          },
          "metadata": {}
        }
      ]
    },
    {
      "cell_type": "markdown",
      "source": [
        "*   Quantum Variational"
      ],
      "metadata": {
        "id": "PpJErew3gmyj"
      }
    },
    {
      "cell_type": "code",
      "source": [
        "num_qubits = len(qubo.variables)\n",
        "\n",
        "# VQE solution - Ansantz 1\n",
        "ansantz = Ansantz_1(num_qubits)\n",
        "\n",
        "result_vqe_1 = VQE_BPP(qubo, ansantz)\n",
        "\n",
        "print('Solution of the BPP using VQE using ansantz 1: ')\n",
        "print(result_vqe_1.prettyprint())\n",
        "\n",
        "sol_vqe_1 = ''.join(str(round(i)) for i in result_vqe_1)\n",
        "\n",
        "plot_sol(sol_vqe_1, n, m, P, 'VQE solution - Ansantz 1')"
      ],
      "metadata": {
        "colab": {
          "base_uri": "https://localhost:8080/",
          "height": 457
        },
        "id": "Lw9SR9qbs-_f",
        "outputId": "7c785e68-261e-4d63-a5dc-fef963392168"
      },
      "execution_count": 243,
      "outputs": [
        {
          "output_type": "stream",
          "name": "stderr",
          "text": [
            "<ipython-input-235-e20092e85c70>:9: DeprecationWarning: The class ``qiskit.primitives.sampler.Sampler`` is deprecated as of qiskit 1.2. It will be removed no earlier than 3 months after the release date. All implementations of the `BaseSamplerV1` interface have been deprecated in favor of their V2 counterparts. The V2 alternative for the `Sampler` class is `StatevectorSampler`.\n",
            "  vqe = MinimumEigenOptimizer(SamplingVQE(sampler = Sampler(), ansatz = ansantz, optimizer=COBYLA(maxiter=10)))\n"
          ]
        },
        {
          "output_type": "stream",
          "name": "stdout",
          "text": [
            "Solution of the BPP using VQE using ansantz 1: \n",
            "objective function value: 2.0\n",
            "variable values: x0=0.0, x1=1.0, x2=1.0, k0,0=0.0, k0,1=0.0, k0,2=0.0, k1,0=0.0, k1,1=1.0, k1,2=1.0, k2,0=1.0, k2,1=0.0, k2,2=0.0\n",
            "status: SUCCESS\n"
          ]
        },
        {
          "output_type": "display_data",
          "data": {
            "text/plain": [
              "<Figure size 400x300 with 1 Axes>"
            ],
            "image/png": "[encoded data removed]"
          },
          "metadata": {}
        }
      ]
    },
    {
      "cell_type": "code",
      "source": [
        "# VQE solution - Ansantz 2\n",
        "ansantz = Ansantz_2(num_qubits)\n",
        "\n",
        "result_vqe_2 = VQE_BPP(qubo, ansantz)\n",
        "\n",
        "print('Solution of the BPP using VQE using ansantz 2: ')\n",
        "print(result_vqe_2.prettyprint())\n",
        "\n",
        "sol_vqe_2 = ''.join(str(round(i)) for i in result_vqe_2)\n",
        "\n",
        "plot_sol(sol_vqe_2, n, m, P, 'VQE solution - Ansantz 2')"
      ],
      "metadata": {
        "colab": {
          "base_uri": "https://localhost:8080/",
          "height": 457
        },
        "id": "RGhDUCWo-RdE",
        "outputId": "cf66d6fc-7fe4-465d-fc6f-849025550f47"
      },
      "execution_count": 244,
      "outputs": [
        {
          "output_type": "stream",
          "name": "stderr",
          "text": [
            "<ipython-input-235-e20092e85c70>:9: DeprecationWarning: The class ``qiskit.primitives.sampler.Sampler`` is deprecated as of qiskit 1.2. It will be removed no earlier than 3 months after the release date. All implementations of the `BaseSamplerV1` interface have been deprecated in favor of their V2 counterparts. The V2 alternative for the `Sampler` class is `StatevectorSampler`.\n",
            "  vqe = MinimumEigenOptimizer(SamplingVQE(sampler = Sampler(), ansatz = ansantz, optimizer=COBYLA(maxiter=10)))\n"
          ]
        },
        {
          "output_type": "stream",
          "name": "stdout",
          "text": [
            "Solution of the BPP using VQE using ansantz 2: \n",
            "objective function value: 2.0\n",
            "variable values: x0=1.0, x1=1.0, x2=0.0, k0,0=0.0, k0,1=0.0, k0,2=1.0, k1,0=1.0, k1,1=1.0, k1,2=0.0, k2,0=0.0, k2,1=0.0, k2,2=0.0\n",
            "status: SUCCESS\n"
          ]
        },
        {
          "output_type": "display_data",
          "data": {
            "text/plain": [
              "<Figure size 400x300 with 1 Axes>"
            ],
            "image/png": "[encoded data removed]"
          },
          "metadata": {}
        }
      ]
    },
    {
      "cell_type": "code",
      "source": [
        "# VQE solution - Ansantz 3\n",
        "ansantz = Ansantz_3(num_qubits)\n",
        "\n",
        "result_vqe_3 = VQE_BPP(qubo, ansantz)\n",
        "\n",
        "print('Solution of the BPP using VQE using ansantz 3: ')\n",
        "print(result_vqe_3.prettyprint())\n",
        "\n",
        "sol_vqe_3 = ''.join(str(round(i)) for i in result_vqe_3)\n",
        "\n",
        "plot_sol(sol_vqe_3, n, m, P, 'VQE solution - Ansantz 3')"
      ],
      "metadata": {
        "colab": {
          "base_uri": "https://localhost:8080/",
          "height": 457
        },
        "id": "xm9a2N0n-e7a",
        "outputId": "667a2e07-4056-40ef-fe66-e2efec3c5b91"
      },
      "execution_count": 245,
      "outputs": [
        {
          "output_type": "stream",
          "name": "stderr",
          "text": [
            "<ipython-input-235-e20092e85c70>:9: DeprecationWarning: The class ``qiskit.primitives.sampler.Sampler`` is deprecated as of qiskit 1.2. It will be removed no earlier than 3 months after the release date. All implementations of the `BaseSamplerV1` interface have been deprecated in favor of their V2 counterparts. The V2 alternative for the `Sampler` class is `StatevectorSampler`.\n",
            "  vqe = MinimumEigenOptimizer(SamplingVQE(sampler = Sampler(), ansatz = ansantz, optimizer=COBYLA(maxiter=10)))\n"
          ]
        },
        {
          "output_type": "stream",
          "name": "stdout",
          "text": [
            "Solution of the BPP using VQE using ansantz 3: \n",
            "objective function value: 2.0\n",
            "variable values: x0=1.0, x1=1.0, x2=0.0, k0,0=0.0, k0,1=0.0, k0,2=1.0, k1,0=1.0, k1,1=1.0, k1,2=0.0, k2,0=0.0, k2,1=0.0, k2,2=0.0\n",
            "status: SUCCESS\n"
          ]
        },
        {
          "output_type": "display_data",
          "data": {
            "text/plain": [
              "<Figure size 400x300 with 1 Axes>"
            ],
            "image/png": "[encoded data removed]"
          },
          "metadata": {}
        }
      ]
    },
    {
      "cell_type": "markdown",
      "source": [
        "*   QAOA"
      ],
      "metadata": {
        "id": "vCV2ELC1hIWk"
      }
    },
    {
      "cell_type": "code",
      "source": [
        "result_qaoa = QAOA_BPP(qubo)\n",
        "\n",
        "print('Solution of the BPP using QAOA: ')\n",
        "print(result_qaoa.prettyprint())\n",
        "\n",
        "sol_qaoa = ''.join(str(round(i)) for i in result_qaoa)\n",
        "\n",
        "plot_sol(sol_qaoa, n, m, P, 'QAOA solution')"
      ],
      "metadata": {
        "colab": {
          "base_uri": "https://localhost:8080/",
          "height": 457
        },
        "id": "DExJphpYs_ZN",
        "outputId": "c9b29ca7-f494-4e2d-958b-88e95574c62e"
      },
      "execution_count": 246,
      "outputs": [
        {
          "output_type": "stream",
          "name": "stderr",
          "text": [
            "<ipython-input-236-64fbc9d62bb4>:6: DeprecationWarning: The class ``qiskit.primitives.sampler.Sampler`` is deprecated as of qiskit 1.2. It will be removed no earlier than 3 months after the release date. All implementations of the `BaseSamplerV1` interface have been deprecated in favor of their V2 counterparts. The V2 alternative for the `Sampler` class is `StatevectorSampler`.\n",
            "  qaoa = MinimumEigenOptimizer(QAOA(sampler = Sampler(), optimizer=COBYLA(maxiter=10)))\n"
          ]
        },
        {
          "output_type": "stream",
          "name": "stdout",
          "text": [
            "Solution of the BPP using QAOA: \n",
            "objective function value: 2.0\n",
            "variable values: x0=1.0, x1=1.0, x2=0.0, k0,0=0.0, k0,1=0.0, k0,2=1.0, k1,0=1.0, k1,1=1.0, k1,2=0.0, k2,0=0.0, k2,1=0.0, k2,2=0.0\n",
            "status: SUCCESS\n"
          ]
        },
        {
          "output_type": "display_data",
          "data": {
            "text/plain": [
              "<Figure size 400x300 with 1 Axes>"
            ],
            "image/png": "[encoded data removed]"
          },
          "metadata": {}
        }
      ]
    },
    {
      "cell_type": "markdown",
      "source": [
        "#### Result comparison"
      ],
      "metadata": {
        "id": "0lwdnYAn2k0Q"
      }
    },
    {
      "cell_type": "code",
      "source": [
        "sols = []\n",
        "vals = []\n",
        "\n",
        "for i, j in samples_dwave.items():\n",
        "  sols.append(i)\n",
        "  vals.append(j)\n",
        "\n",
        "plt.bar(sols, vals, color='r', label = 'QA samples')\n",
        "plt.axvline(x = bf_sol, color = 'b', label = 'BF solution', linestyle = ':')\n",
        "plt.axvline(x = sol_vqe_1, color = 'g', label = 'VQE solution - A1', linestyle = '-.')\n",
        "plt.axvline(x = sol_vqe_2, color = 'k', label = 'VQE solution - A2', linestyle = '-.')\n",
        "plt.axvline(x = sol_vqe_3, color = 'm', label = 'VQE solution - A3', linestyle = '-.')\n",
        "plt.axvline(x = sol_qaoa, color = 'c', label = 'QAOA solution', linestyle = ':')\n",
        "plt.title('Results')\n",
        "plt.ylabel('Frequency')\n",
        "plt.xlabel('Possible binary solutions')\n",
        "plt.legend()\n",
        "plt.show()"
      ],
      "metadata": {
        "colab": {
          "base_uri": "https://localhost:8080/",
          "height": 472
        },
        "id": "vR-KoS9Jq7RV",
        "outputId": "7155ccc3-9e7e-4379-d9c7-a1af461b62c7"
      },
      "execution_count": 261,
      "outputs": [
        {
          "output_type": "display_data",
          "data": {
            "text/plain": [
              "<Figure size 640x480 with 1 Axes>"
            ],
            "image/png": "[encoded data removed]"
          },
          "metadata": {}
        }
      ]
    },
    {
      "cell_type": "markdown",
      "source": [
        "A small instance of the Bin Packing Problem (BPP) was utilized to compare the results obtained from various classical methods, such as brute force, alongside quantum approaches, including Quantum Annealing (QA), Variational Quantum Eigensolver (VQE), and Quantum Approximation Optimization Algorithm (QAOA). Slack variables served as a penalization method within the QUBO formulation of the BPP. Specifically, three different ansätze (RY and CZ, RX and CZ, Hadamard and CRZ) were proposed to facilitate the comparison of results. These ansätze aim to initialize states that generate combinations of possible solutions, which are then mixed to explore different configurations.\n",
        "\n",
        "However, VQE simulations required more computational resources, particularly RAM, compared to the other methods employed, with QAOA, QA, and brute force following in resource intensity. Consequently, a smaller instance was selected for evaluating the performance of these algorithms. Future research could explore larger instances using alternative penalization methods, such as unbalanced penalization, to reduce the number of qubits associated with slack variables.\n",
        "\n",
        "The various graphs illustrating the results reveal many equivalent valid solutions, where the capacity of each bin is not exceeded by the sum of the weights of the items it contains, while also minimizing the total number of bins. These solutions differ primarily in how items are distributed among the bins.\n",
        "\n",
        "As depicted in the figure above, the solution derived from QAOA aligns with the solutions obtained from the VQE algorithm using Ansätze 2 and 3 for this specific instance. Additionally, the VQE solution from Ansatz 1 corresponds to one of the more frequent outcomes produced by QA, whereas the brute force result, while not matching any solutions from the quantum algorithms, remains a valid solution."
      ],
      "metadata": {
        "id": "wMeEWDTHCODN"
      }
    },
    {
      "cell_type": "markdown",
      "metadata": {
        "id": "8TE-i1Mf2Svh"
      },
      "source": [
        "# References\n",
        "\n",
        "#### BPP\n",
        "\n",
        "*   https://arxiv.org/abs/2211.13914\n"
      ]
    },
    {
      "cell_type": "markdown",
      "metadata": {
        "id": "cV1QJJK18qz4"
      },
      "source": [
        "#### DOcplex\n",
        "\n",
        "*   https://qiskit-community.github.io/qiskit-optimization/locale/es_UN/tutorials/01_quadratic_program.html\n",
        "*   https://docs.quantum.ibm.com/api/qiskit/0.19/qiskit.optimization.QuadraticProgram\n",
        "*   https://github.com/qiskit-community/qiskit-optimization/blob/main/docs/tutorials/02_converters_for_quadratic_programs.ipynb\n",
        "*   https://github.com/IBMDecisionOptimization/docplex-examples/blob/master/examples/mp/jupyter/tutorials/Linear_Programming.ipynb\n",
        "\n",
        "\n",
        "\n"
      ]
    },
    {
      "cell_type": "markdown",
      "metadata": {
        "id": "8QxKnahXi9os"
      },
      "source": [
        "#### QUBO\n",
        "\n",
        "*   https://qiskit-community.github.io/qiskit-optimization/stubs/qiskit_optimization.converters.QuadraticProgramToQubo.html\n",
        "\n"
      ]
    },
    {
      "cell_type": "markdown",
      "metadata": {
        "id": "Ynse8khCsjAD"
      },
      "source": [
        "#### DWave\n",
        "\n",
        "*   https://github.com/dwavesystems/dwave-qiskit-plugin\n",
        "*   https://quantumcomputing.stackexchange.com/questions/16622/from-qiskit-quadraticprogram-to-problem-model-accepted-by-dwave-ocean\n",
        "*   https://docs.ocean.dwavesys.com/en/stable/docs_dimod/reference/generated/dimod.binary.as_bqm.html\n",
        "*   https://docs.ocean.dwavesys.com/en/stable/docs_samplers/index.html#simulated-annealing\n",
        "*   https://pennylane.ai/qml/demos/tutorial_QUBO/\n",
        "*   https://www.dwavesys.com/media/fmtj2fw3/20210920_ofbguide.pdf\n",
        "*   https://pyqubo.readthedocs.io/en/latest/reference/model.html\n"
      ]
    },
    {
      "cell_type": "markdown",
      "metadata": {
        "id": "Cr1myewPkKxW"
      },
      "source": [
        "#### VQE\n",
        "\n",
        "*   https://qiskit-community.github.io/qiskit-algorithms/stubs/qiskit_algorithms.SamplingVQE.html#qiskit_algorithms.SamplingVQE\n",
        "*   https://github.com/Qiskit/textbook/blob/main/notebooks/ch-applications/vqe-molecules.ipynb\n",
        "*   https://qiskit-community.github.io/qiskit-algorithms/tutorials/01_algorithms_introduction.html#\n",
        "*   https://medium.com/qiskit/a-guide-to-the-qiskit-circuit-library-36ee0f189956\n",
        "*   https://github.com/Qiskit/qiskit-tutorials/blob/master/tutorials/algorithms/01_algorithms_introduction.ipynb\n",
        "*   https://learning.quantum.ibm.com/tutorial/variational-quantum-eigensolver\n"
      ]
    },
    {
      "cell_type": "markdown",
      "metadata": {
        "id": "4cnehg1DkYDj"
      },
      "source": [
        "#### Anzat\n",
        "\n",
        "*   https://pennylane.ai/qml/glossary/circuit_ansatz/"
      ]
    },
    {
      "cell_type": "markdown",
      "metadata": {
        "id": "62FrkTAXLtvq"
      },
      "source": [
        "#### QAOA\n",
        "*   https://qiskit-community.github.io/qiskit-optimization/locale/es_UN/tutorials/10_warm_start_qaoa.html\n",
        "*   https://qiskit-community.github.io/qiskit-algorithms/stubs/qiskit_algorithms.QAOA.html#qiskit_algorithms.QAOA\n",
        "*   https://qiskit-community.github.io/qiskit-optimization/locale/es_UN/tutorials/11_using_classical_optimization_solvers_and_models.html"
      ]
    }
  ],
  "metadata": {
    "colab": {
      "provenance": []
    },
    "kernelspec": {
      "display_name": "Python 3",
      "name": "python3"
    },
    "language_info": {
      "name": "python"
    }
  },
  "nbformat": 4,
  "nbformat_minor": 0
}
